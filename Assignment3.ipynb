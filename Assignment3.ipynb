{
 "cells": [
  {
   "cell_type": "code",
   "execution_count": 14,
   "metadata": {},
   "outputs": [],
   "source": [
    "#write a function to compute / and use try/except to catch the exceptions. \n",
    "def myexcep(num):\n",
    "    try:\n",
    "     res=num/0\n",
    "    except Exception as e:\n",
    "     print(e)"
   ]
  },
  {
   "cell_type": "code",
   "execution_count": 15,
   "metadata": {},
   "outputs": [
    {
     "name": "stdout",
     "output_type": "stream",
     "text": [
      "division by zero\n"
     ]
    }
   ],
   "source": [
    "myexcep(5)"
   ]
  },
  {
   "cell_type": "code",
   "execution_count": 13,
   "metadata": {},
   "outputs": [
    {
     "name": "stdout",
     "output_type": "stream",
     "text": [
      "Americans play Baseball.\n",
      "Americans play Cricket.\n",
      "Americans watch Baseball.\n",
      "Americans watch Cricket.\n",
      "Indians play Baseball.\n",
      "Indians play Cricket.\n",
      "Indians watch Baseball.\n",
      "Indians watch Cricket.\n"
     ]
    }
   ],
   "source": [
    "#Implement a Python program to generate all sentences where subject is in Americans Indians and verb is in Play watch\n",
    "#and the object is in baseballcricket. Hint Subject,verb and Object should be declared in the program as shown below.  \n",
    "#subectsAmericans Indians erbsplaywatch obectsaseballricet.\n",
    "#Output should come as below:  \n",
    "#Americans  play baseball. \n",
    "#Americans  play cricket. \n",
    "#Americans  watch baseball. \n",
    "#Americans  watch cricket. \n",
    "#Indians play baseball. \n",
    "#Indians play cricket. \n",
    "#Indians watch baseball. \n",
    "#Indians watch cricket. \n",
    "\n",
    "subjects=[\"Americans\",\"Indians\"]\n",
    "verbs=[\"play\",\"watch\"]\n",
    "objects=[\"Baseball\",\"Cricket\"]\n",
    "print(str(subjects[0]+\" \"+verbs[0]+\" \"+objects[0]+\".\"))\n",
    "print(str(subjects[0]+\" \"+verbs[0]+\" \"+objects[1]+\".\"))\n",
    "print(str(subjects[0]+\" \"+verbs[1]+\" \"+objects[0]+\".\"))\n",
    "print(str(subjects[0]+\" \"+verbs[1]+\" \"+objects[1]+\".\"))\n",
    "print(str(subjects[1]+\" \"+verbs[0]+\" \"+objects[0]+\".\"))\n",
    "print(str(subjects[1]+\" \"+verbs[0]+\" \"+objects[1]+\".\"))\n",
    "print(str(subjects[1]+\" \"+verbs[1]+\" \"+objects[0]+\".\"))\n",
    "print(str(subjects[1]+\" \"+verbs[1]+\" \"+objects[1]+\".\"))"
   ]
  },
  {
   "cell_type": "code",
   "execution_count": 1,
   "metadata": {},
   "outputs": [],
   "source": [
    "import numpy as np\n",
    "def mymat(l):\n",
    "    print(\"Input Vector:\",l)\n",
    "    noc=3\n",
    "    l1=np.array([l])\n",
    "    l2=l1.size\n",
    "    print(\"Input Vector Size:\",l2)\n",
    "    bool=False\n",
    "    l3=np.column_stack([x**(noc-1-i) for x in l1 for i in range(noc) if bool==False]).reshape(l2,noc)\n",
    "    print(\"Output Matrix:\\n\\n\",l3,\"\\n\")\n",
    "    return l3   "
   ]
  },
  {
   "cell_type": "code",
   "execution_count": 2,
   "metadata": {},
   "outputs": [
    {
     "name": "stdout",
     "output_type": "stream",
     "text": [
      "Input Vector: [1, 2, 3, 4]\n",
      "Input Vector Size: 4\n",
      "Output Matrix:\n",
      "\n",
      " [[ 1  1  1]\n",
      " [ 4  2  1]\n",
      " [ 9  3  1]\n",
      " [16  4  1]] \n",
      "\n"
     ]
    },
    {
     "data": {
      "text/plain": [
       "array([[ 1,  1,  1],\n",
       "       [ 4,  2,  1],\n",
       "       [ 9,  3,  1],\n",
       "       [16,  4,  1]], dtype=int32)"
      ]
     },
     "execution_count": 2,
     "metadata": {},
     "output_type": "execute_result"
    }
   ],
   "source": [
    "l2=[1,2,3,4]\n",
    "mymat(l2)"
   ]
  },
  {
   "cell_type": "code",
   "execution_count": null,
   "metadata": {},
   "outputs": [],
   "source": []
  }
 ],
 "metadata": {
  "kernelspec": {
   "display_name": "Python 3",
   "language": "python",
   "name": "python3"
  },
  "language_info": {
   "codemirror_mode": {
    "name": "ipython",
    "version": 3
   },
   "file_extension": ".py",
   "mimetype": "text/x-python",
   "name": "python",
   "nbconvert_exporter": "python",
   "pygments_lexer": "ipython3",
   "version": "3.7.4"
  }
 },
 "nbformat": 4,
 "nbformat_minor": 2
}
